{
  "nbformat": 4,
  "nbformat_minor": 0,
  "metadata": {
    "colab": {
      "provenance": [],
      "authorship_tag": "ABX9TyMfDJN6bq3awDl1cyRc5o29"
    },
    "kernelspec": {
      "name": "python3",
      "display_name": "Python 3"
    },
    "language_info": {
      "name": "python"
    }
  },
  "cells": [
    {
      "cell_type": "code",
      "execution_count": null,
      "metadata": {
        "id": "Z97nGUy-sbRD"
      },
      "outputs": [],
      "source": [
        "class GaussionDiffusion():\n",
        "  def distribution(self):\n",
        "    \"\"\"\n",
        "    p(x_t|x_{t-1}) = N(x_t;\\sqrt{1-\\beta_t}x_{t-1},beta_tI)\n",
        "    q(x_{1:t} | x_0) = \\prod p(x_t|x_{t-1})\n",
        "    \"\"\"\n",
        "    ...\n"
      ]
    }
  ]
}